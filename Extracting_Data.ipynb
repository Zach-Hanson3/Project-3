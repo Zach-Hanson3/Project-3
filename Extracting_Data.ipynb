{
 "cells": [
  {
   "cell_type": "markdown",
   "id": "29f3ab28",
   "metadata": {},
   "source": [
    "# Movie Project: Extracting Data\n",
    "- Zach Hanson"
   ]
  },
  {
   "cell_type": "markdown",
   "id": "4ebd6757",
   "metadata": {},
   "source": [
    "## Libraries and Functions"
   ]
  },
  {
   "cell_type": "markdown",
   "id": "a8b3f485",
   "metadata": {},
   "source": [
    "### Libraries"
   ]
  },
  {
   "cell_type": "code",
   "execution_count": 1,
   "id": "3b1d9fa8",
   "metadata": {},
   "outputs": [],
   "source": [
    "#Standard imports\n",
    "import pandas as pd\n",
    "import numpy as np\n",
    "\n",
    "#JSON stuff\n",
    "import os\n",
    "import time\n",
    "import json\n",
    "\n",
    "#TMDB\n",
    "import tmdbsimple as tmdb\n",
    "\n",
    "#tqdm progress bar\n",
    "from tqdm.notebook import tqdm_notebook"
   ]
  },
  {
   "cell_type": "markdown",
   "id": "d3860db7",
   "metadata": {},
   "source": [
    "### Functions"
   ]
  },
  {
   "cell_type": "markdown",
   "id": "c945803d",
   "metadata": {},
   "source": [
    "#### Write to JSON Folder"
   ]
  },
  {
   "cell_type": "code",
   "execution_count": 2,
   "id": "22923390",
   "metadata": {},
   "outputs": [],
   "source": [
    "def write_json(new_data, filename): \n",
    "    \"\"\"Appends a list of records (new_data) to a json file (filename). \n",
    "    Adapted from: https://www.geeksforgeeks.org/append-to-json-file-using-python/\"\"\"  \n",
    "    \n",
    "    with open(filename,'r+') as file:\n",
    "        # First we load existing data into a dict.\n",
    "        file_data = json.load(file)\n",
    "        ## Choose extend or append\n",
    "        if (type(new_data) == list) & (type(file_data) == list):\n",
    "            file_data.extend(new_data)\n",
    "        else:\n",
    "             file_data.append(new_data)\n",
    "        # Sets file's current position at offset.\n",
    "        file.seek(0)\n",
    "        # convert back to json.\n",
    "        json.dump(file_data, file)"
   ]
  },
  {
   "cell_type": "markdown",
   "id": "f0c6fc6d",
   "metadata": {},
   "source": [
    "#### Getting the Certification of the Given Movie"
   ]
  },
  {
   "cell_type": "code",
   "execution_count": 3,
   "id": "4e3c3b8d",
   "metadata": {},
   "outputs": [],
   "source": [
    "def get_movie_with_rating(movie_id):\n",
    "    \"\"\"Adapted from source = https://github.com/celiao/tmdbsimple\"\"\"\n",
    "    #Get the movie object for the current id\n",
    "    movie = tmdb.Movies(movie_id)\n",
    "    \n",
    "    #Save the .info .releases dictionaries\n",
    "    info = movie.info()\n",
    "    releases = movie.releases()\n",
    "    \n",
    "    #Loop through the countries in releases\n",
    "    for c in releases['countries']:\n",
    "        #if the country abbreviation is 'US'\n",
    "        if c['iso_3166_1'] == 'US':\n",
    "            #Save a \"certification\" key in info with the certification\n",
    "            info['certification'] = c['certification']\n",
    "            \n",
    "    return info"
   ]
  },
  {
   "cell_type": "markdown",
   "id": "255cbeae",
   "metadata": {},
   "source": [
    "## Loading in Data"
   ]
  },
  {
   "cell_type": "markdown",
   "id": "80154972",
   "metadata": {},
   "source": [
    "### Loading login credentials for tmdb api"
   ]
  },
  {
   "cell_type": "code",
   "execution_count": 4,
   "id": "53d69089",
   "metadata": {},
   "outputs": [
    {
     "data": {
      "text/plain": [
       "dict_keys(['api-key'])"
      ]
     },
     "execution_count": 4,
     "metadata": {},
     "output_type": "execute_result"
    }
   ],
   "source": [
    "with open('/Users/Zach/.secret/tmdb_api.json', 'r') as f:\n",
    "    login = json.load(f)\n",
    "\n",
    "#Keys in dictionary\n",
    "login.keys()"
   ]
  },
  {
   "cell_type": "code",
   "execution_count": 5,
   "id": "d74c0a33",
   "metadata": {},
   "outputs": [],
   "source": [
    "#Setting api key\n",
    "tmdb.API_KEY = login['api-key']"
   ]
  },
  {
   "cell_type": "markdown",
   "id": "9badcca4",
   "metadata": {},
   "source": [
    "### Loading Data"
   ]
  },
  {
   "cell_type": "code",
   "execution_count": 6,
   "id": "86903fba",
   "metadata": {},
   "outputs": [
    {
     "data": {
      "text/plain": [
       "['.ipynb_checkpoints',\n",
       " 'final_tmdb_data_2000.csv.gz',\n",
       " 'final_tmdb_data_2001.csv.gz',\n",
       " 'title_akas.csv.gz',\n",
       " 'title_basics.csv.gz',\n",
       " 'title_ratings.csv.gz',\n",
       " 'tmdb_api_results_2000.json',\n",
       " 'tmdb_api_results_2001.json',\n",
       " 'tmdb_api_results_2002.json',\n",
       " 'tmdb_results_combined.csv.gz']"
      ]
     },
     "execution_count": 6,
     "metadata": {},
     "output_type": "execute_result"
    }
   ],
   "source": [
    "FOLDER = \"Data/\"\n",
    "os.makedirs(FOLDER, exist_ok=True)\n",
    "os.listdir(FOLDER)"
   ]
  },
  {
   "cell_type": "code",
   "execution_count": 7,
   "id": "c8aa5a5d",
   "metadata": {},
   "outputs": [
    {
     "data": {
      "text/html": [
       "<div>\n",
       "<style scoped>\n",
       "    .dataframe tbody tr th:only-of-type {\n",
       "        vertical-align: middle;\n",
       "    }\n",
       "\n",
       "    .dataframe tbody tr th {\n",
       "        vertical-align: top;\n",
       "    }\n",
       "\n",
       "    .dataframe thead th {\n",
       "        text-align: right;\n",
       "    }\n",
       "</style>\n",
       "<table border=\"1\" class=\"dataframe\">\n",
       "  <thead>\n",
       "    <tr style=\"text-align: right;\">\n",
       "      <th></th>\n",
       "      <th>tconst</th>\n",
       "      <th>titleType</th>\n",
       "      <th>primaryTitle</th>\n",
       "      <th>originalTitle</th>\n",
       "      <th>isAdult</th>\n",
       "      <th>startYear</th>\n",
       "      <th>endYear</th>\n",
       "      <th>runtimeMinutes</th>\n",
       "      <th>genres</th>\n",
       "    </tr>\n",
       "  </thead>\n",
       "  <tbody>\n",
       "    <tr>\n",
       "      <th>0</th>\n",
       "      <td>tt0035423</td>\n",
       "      <td>movie</td>\n",
       "      <td>Kate &amp; Leopold</td>\n",
       "      <td>Kate &amp; Leopold</td>\n",
       "      <td>0</td>\n",
       "      <td>2001</td>\n",
       "      <td>NaN</td>\n",
       "      <td>118</td>\n",
       "      <td>Comedy,Fantasy,Romance</td>\n",
       "    </tr>\n",
       "    <tr>\n",
       "      <th>1</th>\n",
       "      <td>tt0062336</td>\n",
       "      <td>movie</td>\n",
       "      <td>The Tango of the Widower and Its Distorting Mi...</td>\n",
       "      <td>El tango del viudo y su espejo deformante</td>\n",
       "      <td>0</td>\n",
       "      <td>2020</td>\n",
       "      <td>NaN</td>\n",
       "      <td>70</td>\n",
       "      <td>Drama</td>\n",
       "    </tr>\n",
       "    <tr>\n",
       "      <th>2</th>\n",
       "      <td>tt0069049</td>\n",
       "      <td>movie</td>\n",
       "      <td>The Other Side of the Wind</td>\n",
       "      <td>The Other Side of the Wind</td>\n",
       "      <td>0</td>\n",
       "      <td>2018</td>\n",
       "      <td>NaN</td>\n",
       "      <td>122</td>\n",
       "      <td>Drama</td>\n",
       "    </tr>\n",
       "    <tr>\n",
       "      <th>3</th>\n",
       "      <td>tt0088751</td>\n",
       "      <td>movie</td>\n",
       "      <td>The Naked Monster</td>\n",
       "      <td>The Naked Monster</td>\n",
       "      <td>0</td>\n",
       "      <td>2005</td>\n",
       "      <td>NaN</td>\n",
       "      <td>100</td>\n",
       "      <td>Comedy,Horror,Sci-Fi</td>\n",
       "    </tr>\n",
       "    <tr>\n",
       "      <th>4</th>\n",
       "      <td>tt0096056</td>\n",
       "      <td>movie</td>\n",
       "      <td>Crime and Punishment</td>\n",
       "      <td>Crime and Punishment</td>\n",
       "      <td>0</td>\n",
       "      <td>2002</td>\n",
       "      <td>NaN</td>\n",
       "      <td>126</td>\n",
       "      <td>Drama</td>\n",
       "    </tr>\n",
       "    <tr>\n",
       "      <th>...</th>\n",
       "      <td>...</td>\n",
       "      <td>...</td>\n",
       "      <td>...</td>\n",
       "      <td>...</td>\n",
       "      <td>...</td>\n",
       "      <td>...</td>\n",
       "      <td>...</td>\n",
       "      <td>...</td>\n",
       "      <td>...</td>\n",
       "    </tr>\n",
       "    <tr>\n",
       "      <th>85562</th>\n",
       "      <td>tt9914942</td>\n",
       "      <td>movie</td>\n",
       "      <td>Life Without Sara Amat</td>\n",
       "      <td>La vida sense la Sara Amat</td>\n",
       "      <td>0</td>\n",
       "      <td>2019</td>\n",
       "      <td>NaN</td>\n",
       "      <td>74</td>\n",
       "      <td>Drama</td>\n",
       "    </tr>\n",
       "    <tr>\n",
       "      <th>85563</th>\n",
       "      <td>tt9915872</td>\n",
       "      <td>movie</td>\n",
       "      <td>The Last White Witch</td>\n",
       "      <td>My Girlfriend is a Wizard</td>\n",
       "      <td>0</td>\n",
       "      <td>2019</td>\n",
       "      <td>NaN</td>\n",
       "      <td>97</td>\n",
       "      <td>Comedy,Drama,Fantasy</td>\n",
       "    </tr>\n",
       "    <tr>\n",
       "      <th>85564</th>\n",
       "      <td>tt9916170</td>\n",
       "      <td>movie</td>\n",
       "      <td>The Rehearsal</td>\n",
       "      <td>O Ensaio</td>\n",
       "      <td>0</td>\n",
       "      <td>2019</td>\n",
       "      <td>NaN</td>\n",
       "      <td>51</td>\n",
       "      <td>Drama</td>\n",
       "    </tr>\n",
       "    <tr>\n",
       "      <th>85565</th>\n",
       "      <td>tt9916190</td>\n",
       "      <td>movie</td>\n",
       "      <td>Safeguard</td>\n",
       "      <td>Safeguard</td>\n",
       "      <td>0</td>\n",
       "      <td>2020</td>\n",
       "      <td>NaN</td>\n",
       "      <td>95</td>\n",
       "      <td>Action,Adventure,Thriller</td>\n",
       "    </tr>\n",
       "    <tr>\n",
       "      <th>85566</th>\n",
       "      <td>tt9916362</td>\n",
       "      <td>movie</td>\n",
       "      <td>Coven</td>\n",
       "      <td>Akelarre</td>\n",
       "      <td>0</td>\n",
       "      <td>2020</td>\n",
       "      <td>NaN</td>\n",
       "      <td>92</td>\n",
       "      <td>Drama,History</td>\n",
       "    </tr>\n",
       "  </tbody>\n",
       "</table>\n",
       "<p>85567 rows × 9 columns</p>\n",
       "</div>"
      ],
      "text/plain": [
       "          tconst titleType                                       primaryTitle  \\\n",
       "0      tt0035423     movie                                     Kate & Leopold   \n",
       "1      tt0062336     movie  The Tango of the Widower and Its Distorting Mi...   \n",
       "2      tt0069049     movie                         The Other Side of the Wind   \n",
       "3      tt0088751     movie                                  The Naked Monster   \n",
       "4      tt0096056     movie                               Crime and Punishment   \n",
       "...          ...       ...                                                ...   \n",
       "85562  tt9914942     movie                             Life Without Sara Amat   \n",
       "85563  tt9915872     movie                               The Last White Witch   \n",
       "85564  tt9916170     movie                                      The Rehearsal   \n",
       "85565  tt9916190     movie                                          Safeguard   \n",
       "85566  tt9916362     movie                                              Coven   \n",
       "\n",
       "                                   originalTitle  isAdult  startYear  endYear  \\\n",
       "0                                 Kate & Leopold        0       2001      NaN   \n",
       "1      El tango del viudo y su espejo deformante        0       2020      NaN   \n",
       "2                     The Other Side of the Wind        0       2018      NaN   \n",
       "3                              The Naked Monster        0       2005      NaN   \n",
       "4                           Crime and Punishment        0       2002      NaN   \n",
       "...                                          ...      ...        ...      ...   \n",
       "85562                 La vida sense la Sara Amat        0       2019      NaN   \n",
       "85563                  My Girlfriend is a Wizard        0       2019      NaN   \n",
       "85564                                   O Ensaio        0       2019      NaN   \n",
       "85565                                  Safeguard        0       2020      NaN   \n",
       "85566                                   Akelarre        0       2020      NaN   \n",
       "\n",
       "       runtimeMinutes                     genres  \n",
       "0                 118     Comedy,Fantasy,Romance  \n",
       "1                  70                      Drama  \n",
       "2                 122                      Drama  \n",
       "3                 100       Comedy,Horror,Sci-Fi  \n",
       "4                 126                      Drama  \n",
       "...               ...                        ...  \n",
       "85562              74                      Drama  \n",
       "85563              97       Comedy,Drama,Fantasy  \n",
       "85564              51                      Drama  \n",
       "85565              95  Action,Adventure,Thriller  \n",
       "85566              92              Drama,History  \n",
       "\n",
       "[85567 rows x 9 columns]"
      ]
     },
     "execution_count": 7,
     "metadata": {},
     "output_type": "execute_result"
    }
   ],
   "source": [
    "#Loading in dataframe from \"Filter.ipynb\"\n",
    "basics = pd.read_csv('Data/title_basics.csv.gz')\n",
    "basics"
   ]
  },
  {
   "cell_type": "markdown",
   "id": "e6750c1a",
   "metadata": {},
   "source": [
    "- Loaded in properly"
   ]
  },
  {
   "cell_type": "code",
   "execution_count": 8,
   "id": "d33f4374",
   "metadata": {},
   "outputs": [],
   "source": [
    "#What years we want to extract, for now just 2000 and 2001\n",
    "YEARS = [2000, 2001]"
   ]
  },
  {
   "cell_type": "code",
   "execution_count": 9,
   "id": "1e6cce5b",
   "metadata": {},
   "outputs": [],
   "source": [
    "#Creating error list to capture any errors in our loop\n",
    "errors = []"
   ]
  },
  {
   "cell_type": "code",
   "execution_count": 21,
   "id": "93e79061",
   "metadata": {
    "scrolled": true
   },
   "outputs": [
    {
     "data": {
      "application/vnd.jupyter.widget-view+json": {
       "model_id": "2b90524d676d46d2ac9dd93e069e13f2",
       "version_major": 2,
       "version_minor": 0
      },
      "text/plain": [
       "YEARS:   0%|          | 0/2 [00:00<?, ?it/s]"
      ]
     },
     "metadata": {},
     "output_type": "display_data"
    },
    {
     "data": {
      "application/vnd.jupyter.widget-view+json": {
       "model_id": "3a0cf95c07f34b57bf9476126eafcaef",
       "version_major": 2,
       "version_minor": 0
      },
      "text/plain": [
       "Movies from 2000:   0%|          | 0/1432 [00:00<?, ?it/s]"
      ]
     },
     "metadata": {},
     "output_type": "display_data"
    },
    {
     "data": {
      "application/vnd.jupyter.widget-view+json": {
       "model_id": "6b54b36b7c774445b9c45a96b4a9438e",
       "version_major": 2,
       "version_minor": 0
      },
      "text/plain": [
       "Movies from 2001:   0%|          | 0/1548 [00:00<?, ?it/s]"
      ]
     },
     "metadata": {},
     "output_type": "display_data"
    },
    {
     "name": "stdout",
     "output_type": "stream",
     "text": [
      "Total Errors: 3435\n"
     ]
    }
   ],
   "source": [
    "#START OUTER LOOP\n",
    "for YEAR in tqdm_notebook(YEARS, desc = 'YEARS', position = 0):\n",
    "    \n",
    "    #Defining JSON to store results\n",
    "    JSON_FILE = f'{FOLDER}tmdb_api_results_{YEAR}.json'\n",
    "    #Check if the file already exists\n",
    "    file_exists = os.path.isfile(JSON_FILE)\n",
    "    #If file does not exist\n",
    "    if file_exists == False:\n",
    "        #Create it\n",
    "        with open(JSON_FILE, 'w') as f:\n",
    "            json.dump([{'imdb_id': 0}],f)\n",
    "            \n",
    "    #Define and filter the movie ID's to call in inner loop\n",
    "    df = basics.loc[basics['startYear'] == YEAR].copy()\n",
    "    #Save movie ID to list\n",
    "    movie_ids = df['tconst'].copy()\n",
    "    \n",
    "    #Load existing data into a dataframe\n",
    "    previous_df = pd.read_json(JSON_FILE)\n",
    "    #Filter out movies that are already in the file to prevent duplicating\n",
    "    movie_ids_to_get = movie_ids[~movie_ids.isin(previous_df['imdb_id'])]\n",
    "    \n",
    "    \n",
    "    #START INNER LOOP\n",
    "    for movie_id in tqdm_notebook(movie_ids_to_get,\n",
    "                                  desc = f'Movies from {YEAR}',\n",
    "                                  position = 1,\n",
    "                                  leave = True):\n",
    "        try:\n",
    "            #Retriece data for the movie id\n",
    "            temp = get_movie_with_rating(movie_id)\n",
    "            #Append results to file\n",
    "            write_json(temp, JSON_FILE)\n",
    "            #Delay to not overload server\n",
    "            time.sleep(0.02)\n",
    "            \n",
    "        except Exception as e:\n",
    "            errors.append([movie_id, e])\n",
    "            \n",
    "    #Saving JSON file as a smaller file format\n",
    "    final_year_df = pd.read_json(JSON_FILE)\n",
    "    final_year_df.to_csv(f\"{FOLDER}final_tmdb_data_{YEAR}.csv.gz\",\n",
    "                         compression = 'gzip',\n",
    "                         index = False)\n",
    "    \n",
    "#Number of movies that caused an error\n",
    "print(f'Total Errors: {len(errors)}')"
   ]
  },
  {
   "cell_type": "markdown",
   "id": "554a8912",
   "metadata": {},
   "source": [
    "## Loading the Rest of the Data for Testing"
   ]
  },
  {
   "cell_type": "code",
   "execution_count": 11,
   "id": "707f0eb0",
   "metadata": {},
   "outputs": [
    {
     "data": {
      "text/plain": [
       "[2002,\n",
       " 2003,\n",
       " 2004,\n",
       " 2005,\n",
       " 2006,\n",
       " 2007,\n",
       " 2008,\n",
       " 2009,\n",
       " 2010,\n",
       " 2011,\n",
       " 2012,\n",
       " 2013,\n",
       " 2014,\n",
       " 2015,\n",
       " 2016,\n",
       " 2017,\n",
       " 2018,\n",
       " 2019]"
      ]
     },
     "execution_count": 11,
     "metadata": {},
     "output_type": "execute_result"
    }
   ],
   "source": [
    "#What years we want to extract, 2002-2019\n",
    "\"\"\"\n",
    "Since the COVID pandemic occurred at the start of 2020, most likely shutting down\n",
    "the vast majority of movie theatres and as a result reducing the potential profit \n",
    "of most movies. Because of this, we will only look up to 2019 to do our testing.\n",
    "\"\"\" \n",
    "\n",
    "YEARS = [2002, 2003, 2004, 2005, 2006, 2007, 2008, 2009, 2010,\n",
    "         2011, 2012, 2013, 2014, 2015, 2016, 2017, 2018, 2019]\n",
    "YEARS"
   ]
  },
  {
   "cell_type": "code",
   "execution_count": 12,
   "id": "b2a4cf86",
   "metadata": {},
   "outputs": [
    {
     "data": {
      "application/vnd.jupyter.widget-view+json": {
       "model_id": "c8f1da3445b0409db1a1ea98ad4a3d52",
       "version_major": 2,
       "version_minor": 0
      },
      "text/plain": [
       "YEARS:   0%|          | 0/18 [00:00<?, ?it/s]"
      ]
     },
     "metadata": {},
     "output_type": "display_data"
    },
    {
     "data": {
      "application/vnd.jupyter.widget-view+json": {
       "model_id": "6c0c4a6c09a04da1b0ba609ead5565dc",
       "version_major": 2,
       "version_minor": 0
      },
      "text/plain": [
       "Movies from 2002:   0%|          | 0/1549 [00:00<?, ?it/s]"
      ]
     },
     "metadata": {},
     "output_type": "display_data"
    },
    {
     "data": {
      "application/vnd.jupyter.widget-view+json": {
       "model_id": "8a8a518ca56144f3a88e96d4cfec18ad",
       "version_major": 2,
       "version_minor": 0
      },
      "text/plain": [
       "Movies from 2003:   0%|          | 0/1666 [00:00<?, ?it/s]"
      ]
     },
     "metadata": {},
     "output_type": "display_data"
    },
    {
     "data": {
      "application/vnd.jupyter.widget-view+json": {
       "model_id": "7e70e9ff70ee43d0aa60c18e8813de91",
       "version_major": 2,
       "version_minor": 0
      },
      "text/plain": [
       "Movies from 2004:   0%|          | 0/1882 [00:00<?, ?it/s]"
      ]
     },
     "metadata": {},
     "output_type": "display_data"
    },
    {
     "data": {
      "application/vnd.jupyter.widget-view+json": {
       "model_id": "298202b4f4904e77806404a90e84a798",
       "version_major": 2,
       "version_minor": 0
      },
      "text/plain": [
       "Movies from 2005:   0%|          | 0/2167 [00:00<?, ?it/s]"
      ]
     },
     "metadata": {},
     "output_type": "display_data"
    },
    {
     "data": {
      "application/vnd.jupyter.widget-view+json": {
       "model_id": "37c6db5bc12f4dda9c2d327f04e596da",
       "version_major": 2,
       "version_minor": 0
      },
      "text/plain": [
       "Movies from 2006:   0%|          | 0/2396 [00:00<?, ?it/s]"
      ]
     },
     "metadata": {},
     "output_type": "display_data"
    },
    {
     "data": {
      "application/vnd.jupyter.widget-view+json": {
       "model_id": "7afb5bb8c71e4512a7b5b1df21ea015d",
       "version_major": 2,
       "version_minor": 0
      },
      "text/plain": [
       "Movies from 2007:   0%|          | 0/2548 [00:00<?, ?it/s]"
      ]
     },
     "metadata": {},
     "output_type": "display_data"
    },
    {
     "data": {
      "application/vnd.jupyter.widget-view+json": {
       "model_id": "101ac442ed984ba9aa67e0e0c97d4f05",
       "version_major": 2,
       "version_minor": 0
      },
      "text/plain": [
       "Movies from 2008:   0%|          | 0/2879 [00:00<?, ?it/s]"
      ]
     },
     "metadata": {},
     "output_type": "display_data"
    },
    {
     "data": {
      "application/vnd.jupyter.widget-view+json": {
       "model_id": "d66887426f4c401ea0257d3903b430d6",
       "version_major": 2,
       "version_minor": 0
      },
      "text/plain": [
       "Movies from 2009:   0%|          | 0/3523 [00:00<?, ?it/s]"
      ]
     },
     "metadata": {},
     "output_type": "display_data"
    },
    {
     "data": {
      "application/vnd.jupyter.widget-view+json": {
       "model_id": "3db0a73a492e462289dc5fd99dbeaab6",
       "version_major": 2,
       "version_minor": 0
      },
      "text/plain": [
       "Movies from 2010:   0%|          | 0/3830 [00:00<?, ?it/s]"
      ]
     },
     "metadata": {},
     "output_type": "display_data"
    },
    {
     "data": {
      "application/vnd.jupyter.widget-view+json": {
       "model_id": "a92edf08065b44cd968b5a65b7d8e177",
       "version_major": 2,
       "version_minor": 0
      },
      "text/plain": [
       "Movies from 2011:   0%|          | 0/4199 [00:00<?, ?it/s]"
      ]
     },
     "metadata": {},
     "output_type": "display_data"
    },
    {
     "data": {
      "application/vnd.jupyter.widget-view+json": {
       "model_id": "45555d45e7c64da5b805b388dabf3274",
       "version_major": 2,
       "version_minor": 0
      },
      "text/plain": [
       "Movies from 2012:   0%|          | 0/4490 [00:00<?, ?it/s]"
      ]
     },
     "metadata": {},
     "output_type": "display_data"
    },
    {
     "data": {
      "application/vnd.jupyter.widget-view+json": {
       "model_id": "acbf3e73240942999e0f998f9a29f1f9",
       "version_major": 2,
       "version_minor": 0
      },
      "text/plain": [
       "Movies from 2013:   0%|          | 0/4678 [00:00<?, ?it/s]"
      ]
     },
     "metadata": {},
     "output_type": "display_data"
    },
    {
     "data": {
      "application/vnd.jupyter.widget-view+json": {
       "model_id": "aa86feb79a27432287ffcdee11271723",
       "version_major": 2,
       "version_minor": 0
      },
      "text/plain": [
       "Movies from 2014:   0%|          | 0/4883 [00:00<?, ?it/s]"
      ]
     },
     "metadata": {},
     "output_type": "display_data"
    },
    {
     "data": {
      "application/vnd.jupyter.widget-view+json": {
       "model_id": "57e449d785194a2daaeca7cc8ea97e0f",
       "version_major": 2,
       "version_minor": 0
      },
      "text/plain": [
       "Movies from 2015:   0%|          | 0/5016 [00:00<?, ?it/s]"
      ]
     },
     "metadata": {},
     "output_type": "display_data"
    },
    {
     "data": {
      "application/vnd.jupyter.widget-view+json": {
       "model_id": "d242e8d496274da59e07e714be21e167",
       "version_major": 2,
       "version_minor": 0
      },
      "text/plain": [
       "Movies from 2016:   0%|          | 0/5218 [00:00<?, ?it/s]"
      ]
     },
     "metadata": {},
     "output_type": "display_data"
    },
    {
     "data": {
      "application/vnd.jupyter.widget-view+json": {
       "model_id": "0d22d27fc1644af6946eabc97e8cb371",
       "version_major": 2,
       "version_minor": 0
      },
      "text/plain": [
       "Movies from 2017:   0%|          | 0/5589 [00:00<?, ?it/s]"
      ]
     },
     "metadata": {},
     "output_type": "display_data"
    },
    {
     "data": {
      "application/vnd.jupyter.widget-view+json": {
       "model_id": "16218c2c7ec041d686bff060529d310d",
       "version_major": 2,
       "version_minor": 0
      },
      "text/plain": [
       "Movies from 2018:   0%|          | 0/5713 [00:00<?, ?it/s]"
      ]
     },
     "metadata": {},
     "output_type": "display_data"
    },
    {
     "data": {
      "application/vnd.jupyter.widget-view+json": {
       "model_id": "f9ef4efeb66b467b924d62d387edcf57",
       "version_major": 2,
       "version_minor": 0
      },
      "text/plain": [
       "Movies from 2019:   0%|          | 0/5819 [00:00<?, ?it/s]"
      ]
     },
     "metadata": {},
     "output_type": "display_data"
    },
    {
     "name": "stdout",
     "output_type": "stream",
     "text": [
      "Total Errors: 16213\n"
     ]
    }
   ],
   "source": [
    "#START OUTER LOOP\n",
    "for YEAR in tqdm_notebook(YEARS, desc = 'YEARS', position = 0):\n",
    "    \n",
    "    #Defining JSON to store results\n",
    "    JSON_FILE = f'{FOLDER}tmdb_api_results_{YEAR}.json'\n",
    "    #Check if the file already exists\n",
    "    file_exists = os.path.isfile(JSON_FILE)\n",
    "    #If file does not exist\n",
    "    if file_exists == False:\n",
    "        #Create it\n",
    "        with open(JSON_FILE, 'w') as f:\n",
    "            json.dump([{'imdb_id': 0}],f)\n",
    "            \n",
    "    #Define and filter the movie ID's to call in inner loop\n",
    "    df = basics.loc[basics['startYear'] == YEAR].copy()\n",
    "    #Save movie ID to list\n",
    "    movie_ids = df['tconst'].copy()\n",
    "    \n",
    "    #Load existing data into a dataframe\n",
    "    previous_df = pd.read_json(JSON_FILE)\n",
    "    #Filter out movies that are already in the file to prevent duplicating\n",
    "    movie_ids_to_get = movie_ids[~movie_ids.isin(previous_df['imdb_id'])]\n",
    "    \n",
    "    \n",
    "    #START INNER LOOP\n",
    "    for movie_id in tqdm_notebook(movie_ids_to_get,\n",
    "                                  desc = f'Movies from {YEAR}',\n",
    "                                  position = 1,\n",
    "                                  leave = True):\n",
    "        try:\n",
    "            #Retriece data for the movie id\n",
    "            temp = get_movie_with_rating(movie_id)\n",
    "            #Append results to file\n",
    "            write_json(temp, JSON_FILE)\n",
    "            #Delay to not overload server\n",
    "            time.sleep(0.02)\n",
    "            \n",
    "        except Exception as e:\n",
    "            errors.append([movie_id, e])\n",
    "            \n",
    "    #Saving JSON file as a smaller file format\n",
    "    final_year_df = pd.read_json(JSON_FILE)\n",
    "    final_year_df.to_csv(f\"{FOLDER}final_tmdb_data_{YEAR}.csv.gz\",\n",
    "                         compression = 'gzip',\n",
    "                         index = False)\n",
    "    \n",
    "#Number of movies that caused an error\n",
    "print(f'Total Errors: {len(errors)}')"
   ]
  },
  {
   "cell_type": "code",
   "execution_count": null,
   "id": "72da7e52",
   "metadata": {},
   "outputs": [],
   "source": []
  }
 ],
 "metadata": {
  "kernelspec": {
   "display_name": "Python (dojo-env)",
   "language": "python",
   "name": "dojo-env"
  },
  "language_info": {
   "codemirror_mode": {
    "name": "ipython",
    "version": 3
   },
   "file_extension": ".py",
   "mimetype": "text/x-python",
   "name": "python",
   "nbconvert_exporter": "python",
   "pygments_lexer": "ipython3",
   "version": "3.9.15"
  },
  "toc": {
   "base_numbering": 1,
   "nav_menu": {},
   "number_sections": false,
   "sideBar": true,
   "skip_h1_title": false,
   "title_cell": "Table of Contents",
   "title_sidebar": "Contents",
   "toc_cell": false,
   "toc_position": {
    "height": "calc(100% - 180px)",
    "left": "10px",
    "top": "150px",
    "width": "384px"
   },
   "toc_section_display": true,
   "toc_window_display": true
  }
 },
 "nbformat": 4,
 "nbformat_minor": 5
}
